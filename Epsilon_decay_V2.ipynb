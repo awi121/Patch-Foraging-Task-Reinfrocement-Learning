{
 "cells": [
  {
   "cell_type": "code",
   "execution_count": 1,
   "metadata": {
    "executionInfo": {
     "elapsed": 17,
     "status": "ok",
     "timestamp": 1624747698896,
     "user": {
      "displayName": "Avi Alok",
      "photoUrl": "",
      "userId": "13579507839502371538"
     },
     "user_tz": -330
    },
    "id": "0t0qCEamjPos"
   },
   "outputs": [],
   "source": [
    "import numpy as np\n",
    "import random\n",
    "import matplotlib.pyplot as plt"
   ]
  },
  {
   "cell_type": "markdown",
   "metadata": {
    "id": "u81bVkwSjPo4"
   },
   "source": [
    "Definition of environment"
   ]
  },
  {
   "cell_type": "code",
   "execution_count": 2,
   "metadata": {
    "executionInfo": {
     "elapsed": 15,
     "status": "ok",
     "timestamp": 1624747698897,
     "user": {
      "displayName": "Avi Alok",
      "photoUrl": "",
      "userId": "13579507839502371538"
     },
     "user_tz": -330
    },
    "id": "8QcA6P-cjPo8"
   },
   "outputs": [],
   "source": [
    "env=[0,1,2,3,4,5,6,7]\n",
    "dist1=[0,1,1.848,2.414,2.613,2.414,1.848,1]\n",
    "k=1\n",
    "dist=[i/k for i in dist1]\n",
    "total_score=[]"
   ]
  },
  {
   "cell_type": "markdown",
   "metadata": {
    "id": "8ARWjCd-jPpA"
   },
   "source": [
    "Actions"
   ]
  },
  {
   "cell_type": "code",
   "execution_count": 3,
   "metadata": {
    "executionInfo": {
     "elapsed": 14,
     "status": "ok",
     "timestamp": 1624747698898,
     "user": {
      "displayName": "Avi Alok",
      "photoUrl": "",
      "userId": "13579507839502371538"
     },
     "user_tz": -330
    },
    "id": "oE_QvxpWjPpA"
   },
   "outputs": [],
   "source": [
    "actions=[0,1,2,3,4,5,6,7]"
   ]
  },
  {
   "cell_type": "markdown",
   "metadata": {
    "id": "QU-APqnvjPpD"
   },
   "source": [
    "Rewards"
   ]
  },
  {
   "cell_type": "code",
   "execution_count": 4,
   "metadata": {
    "executionInfo": {
     "elapsed": 13,
     "status": "ok",
     "timestamp": 1624747698898,
     "user": {
      "displayName": "Avi Alok",
      "photoUrl": "",
      "userId": "13579507839502371538"
     },
     "user_tz": -330
    },
    "id": "4SaD_1Z8jPpF"
   },
   "outputs": [],
   "source": [
    "rewards=[70,0,0,70,70,0,70,0]\n",
    "reward_update_rate = [8, 0, 0, 2, 2 , 0, 8, 0]"
   ]
  },
  {
   "cell_type": "markdown",
   "metadata": {
    "id": "YBRX-QwJjPpH"
   },
   "source": [
    "Help Functions"
   ]
  },
  {
   "cell_type": "code",
   "execution_count": 5,
   "metadata": {
    "executionInfo": {
     "elapsed": 13,
     "status": "ok",
     "timestamp": 1624747698899,
     "user": {
      "displayName": "Avi Alok",
      "photoUrl": "",
      "userId": "13579507839502371538"
     },
     "user_tz": -330
    },
    "id": "mkmOXKBVjPpJ"
   },
   "outputs": [],
   "source": [
    "def get_starting_location():\n",
    "    current_place = np.random.randint(8)\n",
    "    return current_place"
   ]
  },
  {
   "cell_type": "markdown",
   "metadata": {
    "id": "ppenYPdFbjUS"
   },
   "source": [
    "epsilon decay"
   ]
  },
  {
   "cell_type": "code",
   "execution_count": 6,
   "metadata": {
    "executionInfo": {
     "elapsed": 12,
     "status": "ok",
     "timestamp": 1624747698899,
     "user": {
      "displayName": "Avi Alok",
      "photoUrl": "",
      "userId": "13579507839502371538"
     },
     "user_tz": -330
    },
    "id": "0_QxWKL6jPpM"
   },
   "outputs": [],
   "source": [
    "def get_next_action(current_env_index,time,c_epsilon,e_epsilon,flag):\n",
    "    f=0\n",
    "    if (c_epsilon<=e_epsilon):\n",
    "        c_epsilon=e_epsilon\n",
    "        f=1\n",
    "    else:\n",
    "        c_epsilon=0.99*c_epsilon\n",
    "    if np.random.random()<0.1:     \n",
    "      if (flag and f):\n",
    "        if np.random.random()<1-c_epsilon:\n",
    "          return np.argmax(Q[current_env_index]),c_epsilon\n",
    "        else:\n",
    "          if (rewards[current_env_index]>0):\n",
    "            return current_env_index,c_epsilon\n",
    "          else:\n",
    "            return np.argmax(Q[current_env_index]),c_epsilon\n",
    "    if np.random.random()<1-c_epsilon:\n",
    "        return np.argmax(Q[current_env_index]),c_epsilon\n",
    "    else: \n",
    "        return np.random.randint(8),c_epsilon"
   ]
  },
  {
   "cell_type": "code",
   "execution_count": 7,
   "metadata": {
    "executionInfo": {
     "elapsed": 12,
     "status": "ok",
     "timestamp": 1624747698900,
     "user": {
      "displayName": "Avi Alok",
      "photoUrl": "",
      "userId": "13579507839502371538"
     },
     "user_tz": -330
    },
    "id": "U6tq630pjPpP"
   },
   "outputs": [],
   "source": [
    "def get_next_location(current_env_index,action_index):\n",
    "    new_env_index = action_index\n",
    "    index_difference=abs(current_env_index-action_index)\n",
    "    return new_env_index,index_difference"
   ]
  },
  {
   "cell_type": "code",
   "execution_count": 8,
   "metadata": {
    "executionInfo": {
     "elapsed": 11,
     "status": "ok",
     "timestamp": 1624747698900,
     "user": {
      "displayName": "Avi Alok",
      "photoUrl": "",
      "userId": "13579507839502371538"
     },
     "user_tz": -330
    },
    "id": "RyNqLbF3jPpS"
   },
   "outputs": [],
   "source": [
    "def mesaure_and_update_rewards(current_env_index,time,index_difference,rewards):\n",
    "    time=time+1+dist[index_difference]\n",
    "    re=rewards[current_env_index]\n",
    "    for i in range(len(rewards)):\n",
    "        if(i!=current_env_index):\n",
    "            if(reward_update_rate[i]+rewards[i]>200):\n",
    "                rewards[i]=200\n",
    "            else:   \n",
    "                rewards[i]=reward_update_rate[i]+rewards[i]\n",
    "        else:\n",
    "            rewards[i]=0.9*rewards[i]\n",
    "    #print(rewards)\n",
    "    return time,re,rewards"
   ]
  },
  {
   "cell_type": "code",
   "execution_count": 9,
   "metadata": {
    "executionInfo": {
     "elapsed": 11,
     "status": "ok",
     "timestamp": 1624747698901,
     "user": {
      "displayName": "Avi Alok",
      "photoUrl": "",
      "userId": "13579507839502371538"
     },
     "user_tz": -330
    },
    "id": "_yJg2rRgjPpU"
   },
   "outputs": [],
   "source": [
    "def updateQtable(timetaken,prev_env_index,action_index,reward,avg_reward,c_epsilon,e_epsilon):\n",
    "    da=0\n",
    "    current_patch=action_index\n",
    "    next_action,da=get_next_action(current_patch,da,c_epsilon,e_epsilon,0)\n",
    "    Q[prev_env_index,action_index]=(1-alpha)*Q[prev_env_index,action_index] + alpha*(reward+gamma*Q[current_patch, next_action])\n",
    "    "
   ]
  },
  {
   "cell_type": "code",
   "execution_count": 10,
   "metadata": {
    "colab": {
     "base_uri": "https://localhost:8080/",
     "height": 279
    },
    "executionInfo": {
     "elapsed": 787,
     "status": "ok",
     "timestamp": 1624747699678,
     "user": {
      "displayName": "Avi Alok",
      "photoUrl": "",
      "userId": "13579507839502371538"
     },
     "user_tz": -330
    },
    "id": "S327DduJjPpX",
    "outputId": "177a8fae-2d73-4770-e563-b9a1ad4e75bd"
   },
   "outputs": [
    {
     "data": {
      "image/png": "[encoded data removed]",
      "text/plain": [
       "<Figure size 432x288 with 1 Axes>"
      ]
     },
     "metadata": {
      "needs_background": "light",
      "tags": []
     },
     "output_type": "display_data"
    }
   ],
   "source": [
    "    e_epsilon=0.2\n",
    "    c_epsilon=1\n",
    "    gamma=0.99\n",
    "    alpha=0.95\n",
    "    Q=np.zeros(shape=(8,8))\n",
    "    for i in range(5):\n",
    "        rewards=[70,0,0,70,70,0,70,0]\n",
    "        time=0\n",
    "        current_patch=get_starting_location()\n",
    "        cums=0\n",
    "        avg_reward=0\n",
    "        global_avg_reward=[]\n",
    "        indexdif=0\n",
    "        flag=0\n",
    "        st=[]\n",
    "        D=[]\n",
    "        while(time<300):\n",
    "            next_action,c_epsilon=get_next_action(current_patch,time,c_epsilon,e_epsilon,flag)\n",
    "            D.append(current_patch)\n",
    "            time1,re,rewards=mesaure_and_update_rewards(current_patch,time,indexdif,rewards)\n",
    "            cums=cums+re\n",
    "            updateQtable(time1-time,current_patch,next_action,re,avg_reward,c_epsilon,e_epsilon)\n",
    "            current_patch,indexdif=get_next_location(current_patch,next_action)\n",
    "            time=time1\n",
    "            avg_reward=cums/time\n",
    "            if (re>avg_reward):\n",
    "              flag=0\n",
    "            else:\n",
    "              flag=1\n",
    "            global_avg_reward.append(avg_reward)\n",
    "            #print(rewards)\n",
    "            st.append(time)\n",
    "        plt.plot(global_avg_reward)\n",
    "        plt.ylabel(\"global_avg_reward\")\n",
    "        plt.xlabel(\"time\")\n",
    "        "
   ]
  },
  {
   "cell_type": "code",
   "execution_count": 11,
   "metadata": {
    "colab": {
     "base_uri": "https://localhost:8080/"
    },
    "executionInfo": {
     "elapsed": 501,
     "status": "ok",
     "timestamp": 1624747704458,
     "user": {
      "displayName": "Avi Alok",
      "photoUrl": "",
      "userId": "13579507839502371538"
     },
     "user_tz": -330
    },
    "id": "w3UlOC1EJrGH",
    "outputId": "29ddc3bf-abcb-4438-9c10-62656eb39ec5"
   },
   "outputs": [
    {
     "data": {
      "text/plain": [
       "124"
      ]
     },
     "execution_count": 11,
     "metadata": {
      "tags": []
     },
     "output_type": "execute_result"
    }
   ],
   "source": [
    "len(st)"
   ]
  },
  {
   "cell_type": "code",
   "execution_count": 12,
   "metadata": {
    "colab": {
     "base_uri": "https://localhost:8080/"
    },
    "executionInfo": {
     "elapsed": 4,
     "status": "ok",
     "timestamp": 1624747705088,
     "user": {
      "displayName": "Avi Alok",
      "photoUrl": "",
      "userId": "13579507839502371538"
     },
     "user_tz": -330
    },
    "id": "9q6sn6erOh8V",
    "outputId": "29e6227d-57b6-41a5-a3db-26df35a87139"
   },
   "outputs": [
    {
     "data": {
      "text/plain": [
       "10254.157478035828"
      ]
     },
     "execution_count": 12,
     "metadata": {
      "tags": []
     },
     "output_type": "execute_result"
    }
   ],
   "source": [
    "cums"
   ]
  },
  {
   "cell_type": "code",
   "execution_count": 13,
   "metadata": {
    "colab": {
     "base_uri": "https://localhost:8080/"
    },
    "executionInfo": {
     "elapsed": 6,
     "status": "ok",
     "timestamp": 1624747706826,
     "user": {
      "displayName": "Avi Alok",
      "photoUrl": "",
      "userId": "13579507839502371538"
     },
     "user_tz": -330
    },
    "id": "UOtsNzhFPR8h",
    "outputId": "1a55c2a2-ace5-4eaf-b332-a8de24c7e92b"
   },
   "outputs": [
    {
     "name": "stdout",
     "output_type": "stream",
     "text": [
      "[[4.76229142e+02 1.82106175e+02 2.41018012e+03 2.78447096e+02\n",
      "  1.98181855e+02 2.64832980e+02 1.72022974e+02 2.35905837e+02]\n",
      " [2.61879494e+02 8.23489407e+01 1.08387518e+02 3.81173681e+02\n",
      "  1.74701659e+02 0.00000000e+00 2.93861707e+01 2.02235981e+03]\n",
      " [2.37231015e-01 2.01564786e+03 0.00000000e+00 0.00000000e+00\n",
      "  1.99688229e+02 1.61337562e+01 8.04775034e+01 1.09008716e+02]\n",
      " [2.32956506e+03 2.66943614e+02 8.27925000e+01 2.49532250e+02\n",
      "  6.65000000e+01 7.83493500e+01 1.36896383e+03 0.00000000e+00]\n",
      " [1.71046638e+03 2.35216847e+02 7.99412707e+01 4.15499140e+02\n",
      "  3.16144486e+02 1.05509297e+02 1.98763045e+02 2.22159099e+02]\n",
      " [3.82041107e+02 0.00000000e+00 0.00000000e+00 5.44200582e+02\n",
      "  8.07995516e+01 0.00000000e+00 0.00000000e+00 2.15523537e+03]\n",
      " [1.12100000e+02 5.58001781e+02 2.65621576e+02 0.00000000e+00\n",
      "  0.00000000e+00 1.11356389e+03 1.37160791e+02 2.46123126e+02]\n",
      " [8.23084664e+02 3.67633069e+01 3.21615218e+01 2.62518221e+01\n",
      "  1.70260743e+03 2.92230730e+00 1.84601808e+02 7.67804485e+02]]\n"
     ]
    }
   ],
   "source": [
    "print(Q)"
   ]
  },
  {
   "cell_type": "code",
   "execution_count": 14,
   "metadata": {
    "colab": {
     "base_uri": "https://localhost:8080/"
    },
    "executionInfo": {
     "elapsed": 6,
     "status": "ok",
     "timestamp": 1624747708468,
     "user": {
      "displayName": "Avi Alok",
      "photoUrl": "",
      "userId": "13579507839502371538"
     },
     "user_tz": -330
    },
    "id": "vW9MQdk_QFc3",
    "outputId": "b511a14f-e66d-4829-f4d3-48ddf2b8e8ff"
   },
   "outputs": [
    {
     "name": "stdout",
     "output_type": "stream",
     "text": [
      "161\n"
     ]
    }
   ],
   "source": [
    "steps_taken=0\n",
    "epsilone=1\n",
    "while(epsilone>0.2):\n",
    "  epsilone=0.99*epsilone\n",
    "  steps_taken +=1\n",
    "print(steps_taken)"
   ]
  },
  {
   "cell_type": "code",
   "execution_count": 14,
   "metadata": {
    "executionInfo": {
     "elapsed": 3,
     "status": "ok",
     "timestamp": 1624747710264,
     "user": {
      "displayName": "Avi Alok",
      "photoUrl": "",
      "userId": "13579507839502371538"
     },
     "user_tz": -330
    },
    "id": "NRSobaypZAAu"
   },
   "outputs": [],
   "source": []
  }
 ],
 "metadata": {
  "colab": {
   "collapsed_sections": [],
   "name": "Epsilon_decay_V2.ipynb",
   "provenance": []
  },
  "kernelspec": {
   "display_name": "Python 3",
   "language": "python",
   "name": "python3"
  },
  "language_info": {
   "codemirror_mode": {
    "name": "ipython",
    "version": 3
   },
   "file_extension": ".py",
   "mimetype": "text/x-python",
   "name": "python",
   "nbconvert_exporter": "python",
   "pygments_lexer": "ipython3",
   "version": "3.8.8"
  }
 },
 "nbformat": 4,
 "nbformat_minor": 1
}
