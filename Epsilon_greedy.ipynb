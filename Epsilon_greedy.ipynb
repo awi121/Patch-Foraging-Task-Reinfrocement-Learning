{
 "cells": [
  {
   "cell_type": "code",
   "execution_count": 131,
   "metadata": {
    "executionInfo": {
     "elapsed": 582,
     "status": "ok",
     "timestamp": 1624745212115,
     "user": {
      "displayName": "Kshitij Kumar",
      "photoUrl": "",
      "userId": "15470589966183596140"
     },
     "user_tz": -330
    },
    "id": "0t0qCEamjPos"
   },
   "outputs": [],
   "source": [
    "import numpy as np\n",
    "import random\n",
    "import matplotlib.pyplot as plt"
   ]
  },
  {
   "cell_type": "markdown",
   "metadata": {
    "id": "u81bVkwSjPo4"
   },
   "source": [
    "Definition of environment"
   ]
  },
  {
   "cell_type": "code",
   "execution_count": 132,
   "metadata": {
    "executionInfo": {
     "elapsed": 26,
     "status": "ok",
     "timestamp": 1624745213066,
     "user": {
      "displayName": "Kshitij Kumar",
      "photoUrl": "",
      "userId": "15470589966183596140"
     },
     "user_tz": -330
    },
    "id": "8QcA6P-cjPo8"
   },
   "outputs": [],
   "source": [
    "env=[0,1,2,3,4,5,6,7]\n",
    "dist=[0,1,1.848,2.414,2.613,2.414,1.848,1]\n",
    "total_score=[]"
   ]
  },
  {
   "cell_type": "markdown",
   "metadata": {
    "id": "8ARWjCd-jPpA"
   },
   "source": [
    "Actions"
   ]
  },
  {
   "cell_type": "code",
   "execution_count": 133,
   "metadata": {
    "executionInfo": {
     "elapsed": 24,
     "status": "ok",
     "timestamp": 1624745213067,
     "user": {
      "displayName": "Kshitij Kumar",
      "photoUrl": "",
      "userId": "15470589966183596140"
     },
     "user_tz": -330
    },
    "id": "oE_QvxpWjPpA"
   },
   "outputs": [],
   "source": [
    "actions=[0,1,2,3,4,5,6,7]"
   ]
  },
  {
   "cell_type": "markdown",
   "metadata": {
    "id": "QU-APqnvjPpD"
   },
   "source": [
    "Rewards"
   ]
  },
  {
   "cell_type": "code",
   "execution_count": 134,
   "metadata": {
    "executionInfo": {
     "elapsed": 22,
     "status": "ok",
     "timestamp": 1624745213067,
     "user": {
      "displayName": "Kshitij Kumar",
      "photoUrl": "",
      "userId": "15470589966183596140"
     },
     "user_tz": -330
    },
    "id": "4SaD_1Z8jPpF"
   },
   "outputs": [],
   "source": [
    "rewards=[70,0,0,70,70,0,70,0]\n",
    "reward_update_rate = [8, 0, 0, 2, 2 , 0, 8, 0]\n"
   ]
  },
  {
   "cell_type": "markdown",
   "metadata": {
    "id": "YBRX-QwJjPpH"
   },
   "source": [
    "Help Functions"
   ]
  },
  {
   "cell_type": "code",
   "execution_count": 135,
   "metadata": {
    "executionInfo": {
     "elapsed": 22,
     "status": "ok",
     "timestamp": 1624745213068,
     "user": {
      "displayName": "Kshitij Kumar",
      "photoUrl": "",
      "userId": "15470589966183596140"
     },
     "user_tz": -330
    },
    "id": "mkmOXKBVjPpJ"
   },
   "outputs": [],
   "source": [
    "def get_starting_location():\n",
    "    current_place = np.random.randint(8)\n",
    "    return current_place"
   ]
  },
  {
   "cell_type": "markdown",
   "metadata": {
    "id": "ppenYPdFbjUS"
   },
   "source": [
    "**epsilon** greedy"
   ]
  },
  {
   "cell_type": "code",
   "execution_count": 136,
   "metadata": {
    "executionInfo": {
     "elapsed": 21,
     "status": "ok",
     "timestamp": 1624745213068,
     "user": {
      "displayName": "Kshitij Kumar",
      "photoUrl": "",
      "userId": "15470589966183596140"
     },
     "user_tz": -330
    },
    "id": "0_QxWKL6jPpM"
   },
   "outputs": [],
   "source": [
    "def get_next_action(current_env_index,time,epsilon):    \n",
    "    if np.random.random()<1-epsilon:\n",
    "        return np.argmax(Q[current_env_index]),epsilon\n",
    "    else: \n",
    "        return np.random.randint(8),epsilon"
   ]
  },
  {
   "cell_type": "code",
   "execution_count": 136,
   "metadata": {
    "executionInfo": {
     "elapsed": 21,
     "status": "ok",
     "timestamp": 1624745213069,
     "user": {
      "displayName": "Kshitij Kumar",
      "photoUrl": "",
      "userId": "15470589966183596140"
     },
     "user_tz": -330
    },
    "id": "hAt-ed8TG8dx"
   },
   "outputs": [],
   "source": []
  },
  {
   "cell_type": "code",
   "execution_count": 137,
   "metadata": {
    "executionInfo": {
     "elapsed": 21,
     "status": "ok",
     "timestamp": 1624745213070,
     "user": {
      "displayName": "Kshitij Kumar",
      "photoUrl": "",
      "userId": "15470589966183596140"
     },
     "user_tz": -330
    },
    "id": "U6tq630pjPpP"
   },
   "outputs": [],
   "source": [
    "def get_next_location(current_env_index,action_index):\n",
    "    new_env_index = (current_env_index+action_index)%8\n",
    "    index_difference=action_index\n",
    "    return new_env_index,index_difference"
   ]
  },
  {
   "cell_type": "code",
   "execution_count": 138,
   "metadata": {
    "executionInfo": {
     "elapsed": 19,
     "status": "ok",
     "timestamp": 1624745213071,
     "user": {
      "displayName": "Kshitij Kumar",
      "photoUrl": "",
      "userId": "15470589966183596140"
     },
     "user_tz": -330
    },
    "id": "RyNqLbF3jPpS"
   },
   "outputs": [],
   "source": [
    "def mesaure_and_update_rewards(current_env_index,time,index_difference):\n",
    "    time=time+1+dist[index_difference]\n",
    "    re=rewards[current_env_index]\n",
    "    for i in range(len(rewards)):\n",
    "        if(i!=current_env_index):\n",
    "            if(reward_update_rate[i]+rewards[i]>200):\n",
    "                rewards[i]=200\n",
    "            else:   \n",
    "                rewards[i]=reward_update_rate[i]+rewards[i]\n",
    "        else:\n",
    "            rewards[i]=0.9*rewards[i]\n",
    "            \n",
    "    #print(rewards)\n",
    "    return time,re"
   ]
  },
  {
   "cell_type": "code",
   "execution_count": 139,
   "metadata": {
    "executionInfo": {
     "elapsed": 18,
     "status": "ok",
     "timestamp": 1624745213072,
     "user": {
      "displayName": "Kshitij Kumar",
      "photoUrl": "",
      "userId": "15470589966183596140"
     },
     "user_tz": -330
    },
    "id": "_yJg2rRgjPpU"
   },
   "outputs": [],
   "source": [
    "def updateQtable(timetaken,prev_env_index,action_index,rewards,avg_reward,epsilon):\n",
    "    da=0\n",
    "    current_patch=action_index\n",
    "    next_action,da=get_next_action(current_patch,da,epsilon)\n",
    "    Q[prev_env_index,action_index]=(1-alpha)*Q[prev_env_index,action_index] + alpha*(rewards*Q[current_patch, next_action])\n",
    "    "
   ]
  },
  {
   "cell_type": "code",
   "execution_count": 140,
   "metadata": {
    "executionInfo": {
     "elapsed": 18,
     "status": "ok",
     "timestamp": 1624745213073,
     "user": {
      "displayName": "Kshitij Kumar",
      "photoUrl": "",
      "userId": "15470589966183596140"
     },
     "user_tz": -330
    },
    "id": "U2qS8fzVjPpU"
   },
   "outputs": [],
   "source": [
    "epsilon=1\n",
    "gamma=0.9\n",
    "alpha=0.02\n",
    "Q=np.zeros(shape=(8,8))"
   ]
  },
  {
   "cell_type": "code",
   "execution_count": 141,
   "metadata": {
    "executionInfo": {
     "elapsed": 4633,
     "status": "ok",
     "timestamp": 1624745217689,
     "user": {
      "displayName": "Kshitij Kumar",
      "photoUrl": "",
      "userId": "15470589966183596140"
     },
     "user_tz": -330
    },
    "id": "S327DduJjPpX"
   },
   "outputs": [],
   "source": [
    "    epsilon=0.2 \n",
    "    alpha=0.5\n",
    "    Q=np.zeros(shape=(8,8))\n",
    "    for i in range(1000):\n",
    "        rewards=[70,0,0,70,70,0,70,0]\n",
    "        time=0\n",
    "        current_patch=get_starting_location()\n",
    "        cums=0\n",
    "        avg_reward=0\n",
    "        global_avg_reward=[]\n",
    "        D=[]\n",
    "        R=[]\n",
    "        while(time<300):\n",
    "            next_action,epsilon=get_next_action(current_patch,time,epsilon)\n",
    "            current_patch,indexdif=get_next_location(current_patch,next_action)\n",
    "            D.append(current_patch)\n",
    "            time1,re=mesaure_and_update_rewards(current_patch,time,indexdif)\n",
    "            cums=cums+re\n",
    "            updateQtable(time1-time,current_patch,next_action,re,rewards,epsilon)\n",
    "            time=time1\n",
    "            R.append(rewards)\n",
    "            \n",
    "        "
   ]
  },
  {
   "cell_type": "code",
   "execution_count": 142,
   "metadata": {
    "colab": {
     "base_uri": "https://localhost:8080/"
    },
    "executionInfo": {
     "elapsed": 37,
     "status": "ok",
     "timestamp": 1624745217691,
     "user": {
      "displayName": "Kshitij Kumar",
      "photoUrl": "",
      "userId": "15470589966183596140"
     },
     "user_tz": -330
    },
    "id": "nHfrV7RlG92q",
    "outputId": "97bc8ea7-da90-4f3c-c2f5-fad56bc4250b"
   },
   "outputs": [
    {
     "name": "stdout",
     "output_type": "stream",
     "text": [
      "217\n"
     ]
    },
    {
     "data": {
      "text/plain": [
       "[4,\n",
       " 4,\n",
       " 4,\n",
       " 4,\n",
       " 5,\n",
       " 5,\n",
       " 5,\n",
       " 5,\n",
       " 5,\n",
       " 7,\n",
       " 7,\n",
       " 7,\n",
       " 7,\n",
       " 7,\n",
       " 7,\n",
       " 7,\n",
       " 7,\n",
       " 7,\n",
       " 7,\n",
       " 7,\n",
       " 7,\n",
       " 4,\n",
       " 4,\n",
       " 3,\n",
       " 3,\n",
       " 3,\n",
       " 3,\n",
       " 3,\n",
       " 3,\n",
       " 3,\n",
       " 3,\n",
       " 0,\n",
       " 0,\n",
       " 0,\n",
       " 5,\n",
       " 4,\n",
       " 4,\n",
       " 0,\n",
       " 3,\n",
       " 3,\n",
       " 3,\n",
       " 3,\n",
       " 3,\n",
       " 3,\n",
       " 3,\n",
       " 3,\n",
       " 3,\n",
       " 3,\n",
       " 3,\n",
       " 3,\n",
       " 3,\n",
       " 3,\n",
       " 3,\n",
       " 6,\n",
       " 2,\n",
       " 2,\n",
       " 2,\n",
       " 2,\n",
       " 2,\n",
       " 2,\n",
       " 2,\n",
       " 2,\n",
       " 3,\n",
       " 3,\n",
       " 6,\n",
       " 2,\n",
       " 2,\n",
       " 2,\n",
       " 2,\n",
       " 2,\n",
       " 2,\n",
       " 2,\n",
       " 2,\n",
       " 2,\n",
       " 2,\n",
       " 2,\n",
       " 2,\n",
       " 2,\n",
       " 5,\n",
       " 5,\n",
       " 5,\n",
       " 5,\n",
       " 3,\n",
       " 3,\n",
       " 2,\n",
       " 2,\n",
       " 2,\n",
       " 0,\n",
       " 7,\n",
       " 7,\n",
       " 7,\n",
       " 7,\n",
       " 7,\n",
       " 6,\n",
       " 6,\n",
       " 6,\n",
       " 6,\n",
       " 6,\n",
       " 6,\n",
       " 6,\n",
       " 6,\n",
       " 3,\n",
       " 7,\n",
       " 7,\n",
       " 7,\n",
       " 7,\n",
       " 7,\n",
       " 1,\n",
       " 1,\n",
       " 1,\n",
       " 1,\n",
       " 1,\n",
       " 1,\n",
       " 1,\n",
       " 7,\n",
       " 7,\n",
       " 7,\n",
       " 7,\n",
       " 7,\n",
       " 5,\n",
       " 2,\n",
       " 2,\n",
       " 2,\n",
       " 2,\n",
       " 2,\n",
       " 5,\n",
       " 0,\n",
       " 0,\n",
       " 0,\n",
       " 0,\n",
       " 0,\n",
       " 0,\n",
       " 0,\n",
       " 0,\n",
       " 0,\n",
       " 0,\n",
       " 0,\n",
       " 0,\n",
       " 0,\n",
       " 0,\n",
       " 0,\n",
       " 0,\n",
       " 0,\n",
       " 0,\n",
       " 4,\n",
       " 4,\n",
       " 4,\n",
       " 4,\n",
       " 4,\n",
       " 4,\n",
       " 4,\n",
       " 4,\n",
       " 4,\n",
       " 6,\n",
       " 6,\n",
       " 6,\n",
       " 6,\n",
       " 6,\n",
       " 1,\n",
       " 1,\n",
       " 6,\n",
       " 1,\n",
       " 6,\n",
       " 7,\n",
       " 7,\n",
       " 7,\n",
       " 7,\n",
       " 7,\n",
       " 7,\n",
       " 7,\n",
       " 7,\n",
       " 7,\n",
       " 7,\n",
       " 7,\n",
       " 7,\n",
       " 7,\n",
       " 7,\n",
       " 7,\n",
       " 7,\n",
       " 7,\n",
       " 7,\n",
       " 3,\n",
       " 3,\n",
       " 3,\n",
       " 3,\n",
       " 3,\n",
       " 3,\n",
       " 3,\n",
       " 2,\n",
       " 2,\n",
       " 2,\n",
       " 2,\n",
       " 2,\n",
       " 2,\n",
       " 2,\n",
       " 6,\n",
       " 6,\n",
       " 6,\n",
       " 6,\n",
       " 6,\n",
       " 6,\n",
       " 6,\n",
       " 6,\n",
       " 6,\n",
       " 3,\n",
       " 3,\n",
       " 3,\n",
       " 3,\n",
       " 3,\n",
       " 3,\n",
       " 3,\n",
       " 5,\n",
       " 1,\n",
       " 1,\n",
       " 1,\n",
       " 1,\n",
       " 1]"
      ]
     },
     "execution_count": 142,
     "metadata": {
      "tags": []
     },
     "output_type": "execute_result"
    }
   ],
   "source": [
    "epsilon\n",
    "print(len(D))\n",
    "D"
   ]
  },
  {
   "cell_type": "code",
   "execution_count": 143,
   "metadata": {
    "colab": {
     "base_uri": "https://localhost:8080/"
    },
    "executionInfo": {
     "elapsed": 31,
     "status": "ok",
     "timestamp": 1624745217692,
     "user": {
      "displayName": "Kshitij Kumar",
      "photoUrl": "",
      "userId": "15470589966183596140"
     },
     "user_tz": -330
    },
    "id": "SxaBDOM0LWVc",
    "outputId": "b3ca8647-0722-4b2a-8d32-67e4b88844e5"
   },
   "outputs": [
    {
     "data": {
      "text/plain": [
       "[]"
      ]
     },
     "execution_count": 143,
     "metadata": {
      "tags": []
     },
     "output_type": "execute_result"
    }
   ],
   "source": [
    "total_score"
   ]
  },
  {
   "cell_type": "code",
   "execution_count": 144,
   "metadata": {
    "colab": {
     "base_uri": "https://localhost:8080/"
    },
    "executionInfo": {
     "elapsed": 24,
     "status": "ok",
     "timestamp": 1624745217694,
     "user": {
      "displayName": "Kshitij Kumar",
      "photoUrl": "",
      "userId": "15470589966183596140"
     },
     "user_tz": -330
    },
    "id": "hnf8EWKCK5Kf",
    "outputId": "0f972dec-3baa-4fc5-b4c8-aaa2837542b8"
   },
   "outputs": [
    {
     "data": {
      "text/plain": [
       "11380.951392232932"
      ]
     },
     "execution_count": 144,
     "metadata": {
      "tags": []
     },
     "output_type": "execute_result"
    }
   ],
   "source": [
    "cums"
   ]
  },
  {
   "cell_type": "code",
   "execution_count": 145,
   "metadata": {
    "colab": {
     "base_uri": "https://localhost:8080/"
    },
    "executionInfo": {
     "elapsed": 21,
     "status": "ok",
     "timestamp": 1624745217695,
     "user": {
      "displayName": "Kshitij Kumar",
      "photoUrl": "",
      "userId": "15470589966183596140"
     },
     "user_tz": -330
    },
    "id": "DFIqbKLmNo-v",
    "outputId": "92820bf6-c1bb-4bd7-b7f0-051ca6685d9b"
   },
   "outputs": [
    {
     "data": {
      "text/plain": [
       "array([[0., 0., 0., 0., 0., 0., 0., 0.],\n",
       "       [0., 0., 0., 0., 0., 0., 0., 0.],\n",
       "       [0., 0., 0., 0., 0., 0., 0., 0.],\n",
       "       [0., 0., 0., 0., 0., 0., 0., 0.],\n",
       "       [0., 0., 0., 0., 0., 0., 0., 0.],\n",
       "       [0., 0., 0., 0., 0., 0., 0., 0.],\n",
       "       [0., 0., 0., 0., 0., 0., 0., 0.],\n",
       "       [0., 0., 0., 0., 0., 0., 0., 0.]])"
      ]
     },
     "execution_count": 145,
     "metadata": {
      "tags": []
     },
     "output_type": "execute_result"
    }
   ],
   "source": [
    "Q\n",
    "\n"
   ]
  },
  {
   "cell_type": "code",
   "execution_count": 145,
   "metadata": {
    "executionInfo": {
     "elapsed": 19,
     "status": "ok",
     "timestamp": 1624745217696,
     "user": {
      "displayName": "Kshitij Kumar",
      "photoUrl": "",
      "userId": "15470589966183596140"
     },
     "user_tz": -330
    },
    "id": "BgikGWfaXEiD"
   },
   "outputs": [],
   "source": []
  }
 ],
 "metadata": {
  "colab": {
   "name": "Epsilon_greedy.ipynb",
   "provenance": []
  },
  "kernelspec": {
   "display_name": "Python 3",
   "language": "python",
   "name": "python3"
  },
  "language_info": {
   "codemirror_mode": {
    "name": "ipython",
    "version": 3
   },
   "file_extension": ".py",
   "mimetype": "text/x-python",
   "name": "python",
   "nbconvert_exporter": "python",
   "pygments_lexer": "ipython3",
   "version": "3.8.8"
  }
 },
 "nbformat": 4,
 "nbformat_minor": 1
}
