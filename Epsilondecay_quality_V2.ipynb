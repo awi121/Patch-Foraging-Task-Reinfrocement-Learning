{
 "cells": [
  {
   "cell_type": "code",
   "execution_count": 1,
   "metadata": {
    "executionInfo": {
     "elapsed": 5,
     "status": "ok",
     "timestamp": 1624345774273,
     "user": {
      "displayName": "Avi Alok",
      "photoUrl": "",
      "userId": "13579507839502371538"
     },
     "user_tz": -330
    },
    "id": "0t0qCEamjPos"
   },
   "outputs": [],
   "source": [
    "import numpy as np\n",
    "import random\n",
    "import matplotlib.pyplot as plt\n",
    "import random"
   ]
  },
  {
   "cell_type": "markdown",
   "metadata": {
    "id": "u81bVkwSjPo4"
   },
   "source": [
    "Definition of environment"
   ]
  },
  {
   "cell_type": "code",
   "execution_count": 2,
   "metadata": {
    "executionInfo": {
     "elapsed": 5,
     "status": "ok",
     "timestamp": 1624345774274,
     "user": {
      "displayName": "Avi Alok",
      "photoUrl": "",
      "userId": "13579507839502371538"
     },
     "user_tz": -330
    },
    "id": "8QcA6P-cjPo8"
   },
   "outputs": [],
   "source": [
    "env=[0,1,2,3,4,5,6,7]\n",
    "dist1=[0,1,1.848,2.414,2.613,2.414,1.848,1]\n",
    "k=2.2\n",
    "dist=[i/k for i in dist1]\n",
    "total_score=[]"
   ]
  },
  {
   "cell_type": "markdown",
   "metadata": {
    "id": "8ARWjCd-jPpA"
   },
   "source": [
    "Actions"
   ]
  },
  {
   "cell_type": "code",
   "execution_count": 3,
   "metadata": {
    "executionInfo": {
     "elapsed": 4,
     "status": "ok",
     "timestamp": 1624345774274,
     "user": {
      "displayName": "Avi Alok",
      "photoUrl": "",
      "userId": "13579507839502371538"
     },
     "user_tz": -330
    },
    "id": "oE_QvxpWjPpA"
   },
   "outputs": [],
   "source": [
    "actions=[0,1,2,3,4,5,6,7]"
   ]
  },
  {
   "cell_type": "markdown",
   "metadata": {
    "id": "QU-APqnvjPpD"
   },
   "source": [
    "Rewards"
   ]
  },
  {
   "cell_type": "code",
   "execution_count": 4,
   "metadata": {
    "executionInfo": {
     "elapsed": 3,
     "status": "ok",
     "timestamp": 1624345774274,
     "user": {
      "displayName": "Avi Alok",
      "photoUrl": "",
      "userId": "13579507839502371538"
     },
     "user_tz": -330
    },
    "id": "4SaD_1Z8jPpF"
   },
   "outputs": [],
   "source": [
    "rewards=[70,0,0,70,70,0,70,0]\n",
    "reward_update_rate = [8, 0, 0, 2, 2 , 0, 8, 0]"
   ]
  },
  {
   "cell_type": "markdown",
   "metadata": {
    "id": "YBRX-QwJjPpH"
   },
   "source": [
    "Help Functions"
   ]
  },
  {
   "cell_type": "code",
   "execution_count": 5,
   "metadata": {
    "executionInfo": {
     "elapsed": 455,
     "status": "ok",
     "timestamp": 1624345781773,
     "user": {
      "displayName": "Avi Alok",
      "photoUrl": "",
      "userId": "13579507839502371538"
     },
     "user_tz": -330
    },
    "id": "mkmOXKBVjPpJ"
   },
   "outputs": [],
   "source": [
    "def get_starting_location():\n",
    "    current_place = np.random.randint(8)\n",
    "    return current_place\n"
   ]
  },
  {
   "cell_type": "markdown",
   "metadata": {
    "id": "18f1-sLLhCDB"
   },
   "source": [
    "\n",
    "\n",
    "\n",
    "\n",
    "Action select"
   ]
  },
  {
   "cell_type": "code",
   "execution_count": 6,
   "metadata": {
    "executionInfo": {
     "elapsed": 2,
     "status": "ok",
     "timestamp": 1624345783152,
     "user": {
      "displayName": "Avi Alok",
      "photoUrl": "",
      "userId": "13579507839502371538"
     },
     "user_tz": -330
    },
    "id": "E5K1AXjLhIT-"
   },
   "outputs": [],
   "source": [
    "def get_next_action(current_env_index,time,epsilon):\n",
    "    if(epsilon<=0.5):\n",
    "        epsilon=0.5\n",
    "    else:\n",
    "        epsilon=0.999*epsilon\n",
    "    \n",
    "    if np.random.random()<1-epsilon:\n",
    "        return np.argmax(Q[current_env_index]),epsilon\n",
    "    else: \n",
    "        return np.random.randint(8),epsilon"
   ]
  },
  {
   "cell_type": "code",
   "execution_count": 7,
   "metadata": {
    "executionInfo": {
     "elapsed": 2,
     "status": "ok",
     "timestamp": 1624345785024,
     "user": {
      "displayName": "Avi Alok",
      "photoUrl": "",
      "userId": "13579507839502371538"
     },
     "user_tz": -330
    },
    "id": "U6tq630pjPpP"
   },
   "outputs": [],
   "source": [
    "def get_next_location(current_env_index,action_index):\n",
    "    new_env_index = (current_env_index+action_index)%8\n",
    "    index_difference=action_index\n",
    "    return new_env_index,index_difference"
   ]
  },
  {
   "cell_type": "code",
   "execution_count": 9,
   "metadata": {
    "executionInfo": {
     "elapsed": 2,
     "status": "ok",
     "timestamp": 1624345789444,
     "user": {
      "displayName": "Avi Alok",
      "photoUrl": "",
      "userId": "13579507839502371538"
     },
     "user_tz": -330
    },
    "id": "RyNqLbF3jPpS"
   },
   "outputs": [],
   "source": [
    "def mesaure_and_update_rewards(current_env_index,time,index_difference,rewards):\n",
    "    time=time+1+dist[index_difference]\n",
    "    re=rewards[current_env_index]\n",
    "    for i in range(len(rewards)):\n",
    "        if(i!=current_env_index):\n",
    "            if(reward_update_rate[i]+rewards[i]>200):\n",
    "                rewards[i]=200\n",
    "            else:   \n",
    "                rewards[i]=reward_update_rate[i]+rewards[i]\n",
    "        else:\n",
    "            rewards[i]=0.9*rewards[i]\n",
    "    \n",
    "    #print(rewards)\n",
    "    return time,re,rewards"
   ]
  },
  {
   "cell_type": "code",
   "execution_count": 10,
   "metadata": {
    "executionInfo": {
     "elapsed": 889,
     "status": "ok",
     "timestamp": 1624345792552,
     "user": {
      "displayName": "Avi Alok",
      "photoUrl": "",
      "userId": "13579507839502371538"
     },
     "user_tz": -330
    },
    "id": "_yJg2rRgjPpU"
   },
   "outputs": [],
   "source": [
    "def updateQtable(timetaken,prev_env_index,action_index,reward,avg_reward,beta):\n",
    "    da=0\n",
    "    current_patch=(prev_env_index+action_index)%8\n",
    "    next_action=get_next_action(current_patch,beta)\n",
    "    Q[prev_env_index,action_index]=(1-alpha)*Q[prev_env_index,action_index] + alpha*(reward+gamma*Q[current_patch, next_action])\n",
    "    "
   ]
  },
  {
   "cell_type": "code",
   "execution_count": 11,
   "metadata": {
    "executionInfo": {
     "elapsed": 2,
     "status": "ok",
     "timestamp": 1624345796053,
     "user": {
      "displayName": "Avi Alok",
      "photoUrl": "",
      "userId": "13579507839502371538"
     },
     "user_tz": -330
    },
    "id": "U2qS8fzVjPpU"
   },
   "outputs": [],
   "source": [
    "epsilon=1\n",
    "gamma=0.9\n",
    "alpha=0.02\n",
    "Q=np.zeros(shape=(8,8))\n"
   ]
  },
  {
   "cell_type": "markdown",
   "metadata": {
    "id": "0ZzZdsqOH8iI"
   },
   "source": [
    "TRAINING STEPS"
   ]
  },
  {
   "cell_type": "code",
   "execution_count": 12,
   "metadata": {
    "colab": {
     "base_uri": "https://localhost:8080/",
     "height": 333
    },
    "executionInfo": {
     "elapsed": 6,
     "status": "error",
     "timestamp": 1624345797424,
     "user": {
      "displayName": "Avi Alok",
      "photoUrl": "",
      "userId": "13579507839502371538"
     },
     "user_tz": -330
    },
    "id": "S327DduJjPpX",
    "outputId": "64825856-e0ef-40d3-9d0b-0909b7dc8d70"
   },
   "outputs": [
    {
     "ename": "TypeError",
     "evalue": "ignored",
     "output_type": "error",
     "traceback": [
      "\u001b[0;31m---------------------------------------------------------------------------\u001b[0m",
      "\u001b[0;31mTypeError\u001b[0m                                 Traceback (most recent call last)",
      "\u001b[0;32m<ipython-input-12-58501c1d8012>\u001b[0m in \u001b[0;36m<module>\u001b[0;34m()\u001b[0m\n\u001b[1;32m     18\u001b[0m             \u001b[0mnext_action\u001b[0m\u001b[0;34m=\u001b[0m\u001b[0mget_next_action\u001b[0m\u001b[0;34m(\u001b[0m\u001b[0mcurrent_patch\u001b[0m\u001b[0;34m,\u001b[0m\u001b[0mbeta\u001b[0m\u001b[0;34m,\u001b[0m\u001b[0mepsilon\u001b[0m\u001b[0;34m)\u001b[0m\u001b[0;34m\u001b[0m\u001b[0;34m\u001b[0m\u001b[0m\n\u001b[1;32m     19\u001b[0m             \u001b[0;31m#print(current_patch)\u001b[0m\u001b[0;34m\u001b[0m\u001b[0;34m\u001b[0m\u001b[0;34m\u001b[0m\u001b[0m\n\u001b[0;32m---> 20\u001b[0;31m             \u001b[0mcurrent_patch\u001b[0m\u001b[0;34m,\u001b[0m\u001b[0mindexdif\u001b[0m\u001b[0;34m=\u001b[0m\u001b[0mget_next_location\u001b[0m\u001b[0;34m(\u001b[0m\u001b[0mcurrent_patch\u001b[0m\u001b[0;34m,\u001b[0m\u001b[0mnext_action\u001b[0m\u001b[0;34m)\u001b[0m\u001b[0;34m\u001b[0m\u001b[0;34m\u001b[0m\u001b[0m\n\u001b[0m\u001b[1;32m     21\u001b[0m             \u001b[0mD\u001b[0m\u001b[0;34m.\u001b[0m\u001b[0mappend\u001b[0m\u001b[0;34m(\u001b[0m\u001b[0mcurrent_patch\u001b[0m\u001b[0;34m)\u001b[0m\u001b[0;34m\u001b[0m\u001b[0;34m\u001b[0m\u001b[0m\n\u001b[1;32m     22\u001b[0m             \u001b[0mtime1\u001b[0m\u001b[0;34m,\u001b[0m\u001b[0mre\u001b[0m\u001b[0;34m,\u001b[0m\u001b[0mrewards\u001b[0m\u001b[0;34m=\u001b[0m\u001b[0mmesaure_and_update_rewards\u001b[0m\u001b[0;34m(\u001b[0m\u001b[0mcurrent_patch\u001b[0m\u001b[0;34m,\u001b[0m\u001b[0mtime\u001b[0m\u001b[0;34m,\u001b[0m\u001b[0mindexdif\u001b[0m\u001b[0;34m,\u001b[0m\u001b[0mrewards\u001b[0m\u001b[0;34m)\u001b[0m\u001b[0;34m\u001b[0m\u001b[0;34m\u001b[0m\u001b[0m\n",
      "\u001b[0;32m<ipython-input-7-22c2c6928a1d>\u001b[0m in \u001b[0;36mget_next_location\u001b[0;34m(current_env_index, action_index)\u001b[0m\n\u001b[1;32m      1\u001b[0m \u001b[0;32mdef\u001b[0m \u001b[0mget_next_location\u001b[0m\u001b[0;34m(\u001b[0m\u001b[0mcurrent_env_index\u001b[0m\u001b[0;34m,\u001b[0m\u001b[0maction_index\u001b[0m\u001b[0;34m)\u001b[0m\u001b[0;34m:\u001b[0m\u001b[0;34m\u001b[0m\u001b[0;34m\u001b[0m\u001b[0m\n\u001b[0;32m----> 2\u001b[0;31m     \u001b[0mnew_env_index\u001b[0m \u001b[0;34m=\u001b[0m \u001b[0;34m(\u001b[0m\u001b[0mcurrent_env_index\u001b[0m\u001b[0;34m+\u001b[0m\u001b[0maction_index\u001b[0m\u001b[0;34m)\u001b[0m\u001b[0;34m%\u001b[0m\u001b[0;36m8\u001b[0m\u001b[0;34m\u001b[0m\u001b[0;34m\u001b[0m\u001b[0m\n\u001b[0m\u001b[1;32m      3\u001b[0m     \u001b[0mindex_difference\u001b[0m\u001b[0;34m=\u001b[0m\u001b[0maction_index\u001b[0m\u001b[0;34m\u001b[0m\u001b[0;34m\u001b[0m\u001b[0m\n\u001b[1;32m      4\u001b[0m     \u001b[0;32mreturn\u001b[0m \u001b[0mnew_env_index\u001b[0m\u001b[0;34m,\u001b[0m\u001b[0mindex_difference\u001b[0m\u001b[0;34m\u001b[0m\u001b[0;34m\u001b[0m\u001b[0m\n",
      "\u001b[0;31mTypeError\u001b[0m: unsupported operand type(s) for +: 'int' and 'tuple'"
     ]
    }
   ],
   "source": [
    "for p in range(1):\n",
    "    beta=2\n",
    "    epsilon=0.3\n",
    "    gamma=0.9\n",
    "    alpha=0.8\n",
    "    Q=np.zeros(shape=(8,8))\n",
    "    TRAINING_EPISODES=1000\n",
    "    for i in range(TRAINING_EPISODES):\n",
    "        rewards=[70,0,0,70,70,0,70,0]\n",
    "        time=0\n",
    "        current_patch=get_starting_location()\n",
    "        cums=0\n",
    "        avg_reward=0\n",
    "        global_avg_reward=[]\n",
    "        D=[]\n",
    "        while(time<300):\n",
    "            #next_action,epsilon=get_next_action(current_patch,time,epsilon)\n",
    "            next_action=get_next_action(current_patch,beta,epsilon)\n",
    "            #print(current_patch)\n",
    "            current_patch,indexdif=get_next_location(current_patch,next_action)\n",
    "            D.append(current_patch)\n",
    "            time1,re,rewards=mesaure_and_update_rewards(current_patch,time,indexdif,rewards)\n",
    "            cums=cums+re\n",
    "            updateQtable(time1-time,current_patch,next_action,re,avg_reward,beta)\n",
    "            time=time1\n",
    "            avg_reward=cums/time\n",
    "            global_avg_reward.append(avg_reward)\n",
    "        #Print(cums)\n",
    "    #plt.plot(global_avg_reward)\n",
    "    #plt.ylabel(\"global_avg_reward\")\n",
    "    #plt.xlabel(\"time\")\n",
    "    \n",
    "        "
   ]
  },
  {
   "cell_type": "code",
   "execution_count": null,
   "metadata": {
    "id": "m5COk2uC_ysv"
   },
   "outputs": [],
   "source": [
    "def final_episode():\n",
    "  \n",
    "  rewards=[70,0,0,70,70,0,70,0]\n",
    "  time=0\n",
    "  current_patch=get_starting_location()\n",
    "  cums=0\n",
    "  avg_reward=0\n",
    "  global_avg_reward=[]\n",
    "  Step_List=[]\n",
    "  A_steps=[0,0,0,0,0,0,0,0]\n",
    "  A_exploit=[0,0,0,0,0,0,0,0]\n",
    "  while(time<300):\n",
    "            #next_action,epsilon=get_next_action(current_patch,time,epsilon)\n",
    "            next_action=get_next_action(current_patch,beta)\n",
    "            #print(current_patch)\n",
    "            current_patch,indexdif=get_next_location(current_patch,next_action)\n",
    "            Step_List.append(current_patch)\n",
    "            time1,re,rewards=mesaure_and_update_rewards(current_patch,time,indexdif,rewards)\n",
    "            for j in range(8):\n",
    "              if(current_patch==j):\n",
    "                A_steps[j]+=1\n",
    "                A_exploit[j]+=re\n",
    "            cums=cums+re\n",
    "            updateQtable(time1-time,current_patch,next_action,re,avg_reward,beta)\n",
    "            time=time1\n",
    "            avg_reward=cums/time\n",
    "            global_avg_reward.append(avg_reward)\n",
    "            print(rewards)\n",
    "            print(current_patch)\n",
    "  return Step_List,A_steps,A_exploit"
   ]
  },
  {
   "cell_type": "markdown",
   "metadata": {
    "id": "Mwjtdg3nIA0r"
   },
   "source": [
    "FINAL EPISODE"
   ]
  },
  {
   "cell_type": "code",
   "execution_count": null,
   "metadata": {
    "colab": {
     "base_uri": "https://localhost:8080/"
    },
    "id": "RD15b0WDDzCN",
    "outputId": "99a928ba-6bb2-4a0a-8609-c52c015ef265"
   },
   "outputs": [
    {
     "name": "stdout",
     "output_type": "stream",
     "text": [
      "[78, 0, 0, 72, 72, 0, 63.0, 0]\n",
      "6\n",
      "[70.2, 0, 0, 74, 74, 0, 71.0, 0]\n",
      "0\n",
      "[78.2, 0, 0.0, 76, 76, 0, 79.0, 0]\n",
      "2\n",
      "[86.2, 0, 0.0, 78, 68.4, 0, 87.0, 0]\n",
      "4\n",
      "[94.2, 0, 0.0, 80, 70.4, 0, 78.3, 0]\n",
      "6\n",
      "[84.78, 0, 0.0, 82, 72.4, 0, 86.3, 0]\n",
      "0\n",
      "[92.78, 0, 0.0, 84, 74.4, 0, 94.3, 0]\n",
      "2\n",
      "[100.78, 0, 0.0, 86, 66.96000000000001, 0, 102.3, 0]\n",
      "4\n",
      "[108.78, 0, 0.0, 88, 68.96000000000001, 0, 92.07, 0]\n",
      "6\n",
      "[97.902, 0, 0.0, 90, 70.96000000000001, 0, 100.07, 0]\n",
      "0\n",
      "[105.902, 0, 0.0, 92, 72.96000000000001, 0, 108.07, 0]\n",
      "2\n",
      "[113.902, 0, 0.0, 94, 65.66400000000002, 0, 116.07, 0]\n",
      "4\n",
      "[121.902, 0, 0.0, 96, 67.66400000000002, 0, 104.463, 0]\n",
      "6\n",
      "[109.7118, 0, 0.0, 98, 69.66400000000002, 0, 112.463, 0]\n",
      "0\n",
      "[117.7118, 0, 0.0, 100, 71.66400000000002, 0, 120.463, 0]\n",
      "2\n",
      "[125.7118, 0, 0.0, 102, 64.49760000000002, 0, 128.463, 0]\n",
      "4\n",
      "[133.71179999999998, 0, 0.0, 104, 66.49760000000002, 0, 115.6167, 0]\n",
      "6\n",
      "[120.34061999999999, 0, 0.0, 106, 68.49760000000002, 0, 123.6167, 0]\n",
      "0\n",
      "[128.34062, 0, 0.0, 108, 70.49760000000002, 0, 131.61669999999998, 0]\n",
      "2\n",
      "[136.34062, 0, 0.0, 110, 63.44784000000002, 0, 139.61669999999998, 0]\n",
      "4\n",
      "[144.34062, 0, 0.0, 112, 65.44784000000001, 0, 125.65502999999998, 0]\n",
      "6\n",
      "[129.90655800000002, 0, 0.0, 114, 67.44784000000001, 0, 133.65502999999998, 0]\n",
      "0\n",
      "[137.90655800000002, 0, 0.0, 116, 69.44784000000001, 0, 141.65502999999998, 0]\n",
      "2\n",
      "[145.90655800000002, 0, 0.0, 118, 62.503056000000015, 0, 149.65502999999998, 0]\n",
      "4\n",
      "[153.90655800000002, 0, 0.0, 120, 64.50305600000002, 0, 134.689527, 0]\n",
      "6\n",
      "[138.51590220000003, 0, 0.0, 122, 66.50305600000002, 0, 142.689527, 0]\n",
      "0\n",
      "[146.51590220000003, 0, 0.0, 124, 68.50305600000002, 0, 150.689527, 0]\n",
      "2\n",
      "[154.51590220000003, 0, 0.0, 126, 61.652750400000016, 0, 158.689527, 0]\n",
      "4\n",
      "[162.51590220000003, 0, 0.0, 128, 63.652750400000016, 0, 142.8205743, 0]\n",
      "6\n",
      "[146.26431198000003, 0, 0.0, 130, 65.65275040000002, 0, 150.8205743, 0]\n",
      "0\n",
      "[154.26431198000003, 0, 0.0, 132, 67.65275040000002, 0, 158.8205743, 0]\n",
      "2\n",
      "[162.26431198000003, 0, 0.0, 134, 60.88747536000002, 0, 166.8205743, 0]\n",
      "4\n",
      "[170.26431198000003, 0, 0.0, 136, 62.88747536000002, 0, 150.13851687000002, 0]\n",
      "6\n",
      "[153.23788078200002, 0, 0.0, 138, 64.88747536000002, 0, 158.13851687000002, 0]\n",
      "0\n",
      "[161.23788078200002, 0, 0.0, 140, 66.88747536000002, 0, 166.13851687000002, 0]\n",
      "2\n",
      "[169.23788078200002, 0, 0.0, 142, 60.198727824000024, 0, 174.13851687000002, 0]\n",
      "4\n",
      "[177.23788078200002, 0, 0.0, 144, 62.198727824000024, 0, 156.724665183, 0]\n",
      "6\n",
      "[159.51409270380003, 0, 0.0, 146, 64.19872782400003, 0, 164.724665183, 0]\n",
      "0\n",
      "[167.51409270380003, 0, 0.0, 148, 66.19872782400003, 0, 172.724665183, 0]\n",
      "2\n",
      "[175.51409270380003, 0, 0.0, 150, 59.57885504160003, 0, 180.724665183, 0]\n",
      "4\n",
      "[183.51409270380003, 0, 0.0, 152, 61.57885504160003, 0, 162.65219866470002, 0]\n",
      "6\n",
      "[165.16268343342003, 0, 0.0, 154, 63.57885504160003, 0, 170.65219866470002, 0]\n",
      "0\n",
      "[173.16268343342003, 0, 0.0, 156, 65.57885504160004, 0, 178.65219866470002, 0]\n",
      "2\n",
      "[181.16268343342003, 0, 0.0, 158, 59.02096953744003, 0, 186.65219866470002, 0]\n",
      "4\n",
      "[189.16268343342003, 0, 0.0, 160, 61.02096953744003, 0, 167.98697879823, 0]\n",
      "6\n",
      "[170.24641509007802, 0, 0.0, 162, 63.02096953744003, 0, 175.98697879823, 0]\n",
      "0\n",
      "[178.24641509007802, 0, 0.0, 164, 65.02096953744004, 0, 183.98697879823, 0]\n",
      "2\n",
      "[186.24641509007802, 0, 0.0, 166, 58.51887258369604, 0, 191.98697879823, 0]\n",
      "4\n",
      "[194.24641509007802, 0, 0.0, 168, 60.51887258369604, 0, 172.78828091840703, 0]\n",
      "6\n",
      "[174.82177358107023, 0, 0.0, 170, 62.51887258369604, 0, 180.78828091840703, 0]\n",
      "0\n",
      "[182.82177358107023, 0, 0.0, 172, 64.51887258369604, 0, 188.78828091840703, 0]\n",
      "2\n",
      "[190.82177358107023, 0, 0.0, 174, 58.066985325326435, 0, 196.78828091840703, 0]\n",
      "4\n",
      "[198.82177358107023, 0, 0.0, 176, 60.066985325326435, 0, 177.10945282656633, 0]\n",
      "6\n",
      "[178.93959622296322, 0, 0.0, 178, 62.066985325326435, 0, 185.10945282656633, 0]\n",
      "0\n",
      "[186.93959622296322, 0, 0.0, 180, 64.06698532532644, 0, 193.10945282656633, 0]\n",
      "2\n",
      "[194.93959622296322, 0, 0.0, 182, 57.6602867927938, 0, 200, 0]\n",
      "4\n",
      "[200, 0, 0.0, 184, 59.6602867927938, 0, 180.0, 0]\n",
      "6\n",
      "[180.0, 0, 0.0, 186, 61.6602867927938, 0, 188.0, 0]\n",
      "0\n",
      "[188.0, 0, 0.0, 188, 63.6602867927938, 0, 196.0, 0]\n",
      "2\n",
      "[196.0, 0, 0.0, 190, 57.29425811351442, 0, 200, 0]\n",
      "4\n",
      "[200, 0, 0.0, 192, 59.29425811351442, 0, 180.0, 0]\n",
      "6\n",
      "[180.0, 0, 0.0, 194, 61.29425811351442, 0, 188.0, 0]\n",
      "0\n",
      "[188.0, 0, 0.0, 196, 63.29425811351442, 0, 196.0, 0]\n",
      "2\n",
      "[196.0, 0, 0.0, 198, 56.964832302162975, 0, 200, 0]\n",
      "4\n",
      "[200, 0, 0.0, 200, 58.964832302162975, 0, 180.0, 0]\n",
      "6\n",
      "[180.0, 0, 0.0, 200, 60.964832302162975, 0, 188.0, 0]\n",
      "0\n",
      "[188.0, 0, 0.0, 200, 62.964832302162975, 0, 196.0, 0]\n",
      "2\n",
      "[196.0, 0, 0.0, 200, 56.66834907194668, 0, 200, 0]\n",
      "4\n",
      "[200, 0, 0.0, 200, 58.66834907194668, 0, 180.0, 0]\n",
      "6\n",
      "[180.0, 0, 0.0, 200, 60.66834907194668, 0, 188.0, 0]\n",
      "0\n",
      "[188.0, 0, 0.0, 200, 62.66834907194668, 0, 196.0, 0]\n",
      "2\n",
      "[196.0, 0, 0.0, 200, 56.401514164752015, 0, 200, 0]\n",
      "4\n",
      "[200, 0, 0.0, 200, 58.401514164752015, 0, 180.0, 0]\n",
      "6\n",
      "[180.0, 0, 0.0, 200, 60.401514164752015, 0, 188.0, 0]\n",
      "0\n",
      "[188.0, 0, 0.0, 200, 62.401514164752015, 0, 196.0, 0]\n",
      "2\n",
      "[196.0, 0, 0.0, 200, 56.161362748276815, 0, 200, 0]\n",
      "4\n",
      "[200, 0, 0.0, 200, 58.161362748276815, 0, 180.0, 0]\n",
      "6\n",
      "[180.0, 0, 0.0, 200, 60.161362748276815, 0, 188.0, 0]\n",
      "0\n",
      "[188.0, 0, 0.0, 200, 62.161362748276815, 0, 196.0, 0]\n",
      "2\n",
      "[196.0, 0, 0.0, 200, 55.94522647344913, 0, 200, 0]\n",
      "4\n",
      "[200, 0, 0.0, 200, 57.94522647344913, 0, 180.0, 0]\n",
      "6\n",
      "[180.0, 0, 0.0, 200, 59.94522647344913, 0, 188.0, 0]\n",
      "0\n",
      "[188.0, 0, 0.0, 200, 61.94522647344913, 0, 196.0, 0]\n",
      "2\n",
      "[196.0, 0, 0.0, 200, 55.75070382610422, 0, 200, 0]\n",
      "4\n",
      "[200, 0, 0.0, 200, 57.75070382610422, 0, 180.0, 0]\n",
      "6\n",
      "[180.0, 0, 0.0, 200, 59.75070382610422, 0, 188.0, 0]\n",
      "0\n",
      "[188.0, 0, 0.0, 200, 61.75070382610422, 0, 196.0, 0]\n",
      "2\n",
      "[196.0, 0, 0.0, 200, 55.5756334434938, 0, 200, 0]\n",
      "4\n",
      "[200, 0, 0.0, 200, 57.5756334434938, 0, 180.0, 0]\n",
      "6\n",
      "[180.0, 0, 0.0, 200, 59.5756334434938, 0, 188.0, 0]\n",
      "0\n",
      "[188.0, 0, 0.0, 200, 61.5756334434938, 0, 196.0, 0]\n",
      "2\n",
      "[196.0, 0, 0.0, 200, 55.41807009914442, 0, 200, 0]\n",
      "4\n",
      "[200, 0, 0.0, 200, 57.41807009914442, 0, 180.0, 0]\n",
      "6\n",
      "[180.0, 0, 0.0, 200, 59.41807009914442, 0, 188.0, 0]\n",
      "0\n",
      "[188.0, 0, 0.0, 200, 61.41807009914442, 0, 196.0, 0]\n",
      "2\n",
      "[196.0, 0, 0.0, 200, 55.27626308922998, 0, 200, 0]\n",
      "4\n",
      "[200, 0, 0.0, 200, 57.27626308922998, 0, 180.0, 0]\n",
      "6\n",
      "[180.0, 0, 0.0, 200, 59.27626308922998, 0, 188.0, 0]\n",
      "0\n",
      "[188.0, 0, 0.0, 200, 61.27626308922998, 0, 196.0, 0]\n",
      "2\n",
      "[196.0, 0, 0.0, 200, 55.14863678030698, 0, 200, 0]\n",
      "4\n",
      "[200, 0, 0.0, 200, 57.14863678030698, 0, 180.0, 0]\n",
      "6\n",
      "[180.0, 0, 0.0, 200, 59.14863678030698, 0, 188.0, 0]\n",
      "0\n",
      "[188.0, 0, 0.0, 200, 61.14863678030698, 0, 196.0, 0]\n",
      "2\n",
      "[196.0, 0, 0.0, 200, 55.033773102276285, 0, 200, 0]\n",
      "4\n",
      "[200, 0, 0.0, 200, 57.033773102276285, 0, 180.0, 0]\n",
      "6\n",
      "[180.0, 0, 0.0, 200, 59.033773102276285, 0, 188.0, 0]\n",
      "0\n",
      "[188.0, 0, 0.0, 200, 61.033773102276285, 0, 196.0, 0]\n",
      "2\n",
      "[196.0, 0, 0.0, 200, 54.93039579204866, 0, 200, 0]\n",
      "4\n",
      "[200, 0, 0.0, 200, 56.93039579204866, 0, 180.0, 0]\n",
      "6\n",
      "[180.0, 0, 0.0, 200, 58.93039579204866, 0, 188.0, 0]\n",
      "0\n",
      "[188.0, 0, 0.0, 200, 60.93039579204866, 0, 196.0, 0]\n",
      "2\n",
      "[196.0, 0, 0.0, 200, 54.837356212843794, 0, 200, 0]\n",
      "4\n",
      "[200, 0, 0.0, 200, 56.837356212843794, 0, 180.0, 0]\n",
      "6\n",
      "[180.0, 0, 0.0, 200, 58.837356212843794, 0, 188.0, 0]\n",
      "0\n",
      "[188.0, 0, 0.0, 200, 60.837356212843794, 0, 196.0, 0]\n",
      "2\n",
      "[196.0, 0, 0.0, 200, 54.75362059155942, 0, 200, 0]\n",
      "4\n",
      "[200, 0, 0.0, 200, 56.75362059155942, 0, 180.0, 0]\n",
      "6\n",
      "[180.0, 0, 0.0, 200, 58.75362059155942, 0, 188.0, 0]\n",
      "0\n",
      "[188.0, 0, 0.0, 200, 60.75362059155942, 0, 196.0, 0]\n",
      "2\n",
      "[196.0, 0, 0.0, 200, 54.678258532403476, 0, 200, 0]\n",
      "4\n",
      "[200, 0, 0.0, 200, 56.678258532403476, 0, 180.0, 0]\n",
      "6\n",
      "[180.0, 0, 0.0, 200, 58.678258532403476, 0, 188.0, 0]\n",
      "0\n",
      "[188.0, 0, 0.0, 200, 60.678258532403476, 0, 196.0, 0]\n",
      "2\n",
      "[196.0, 0, 0.0, 200, 54.61043267916313, 0, 200, 0]\n",
      "4\n",
      "[200, 0, 0.0, 200, 56.61043267916313, 0, 180.0, 0]\n",
      "6\n",
      "[180.0, 0, 0.0, 200, 58.61043267916313, 0, 188.0, 0]\n",
      "0\n",
      "[188.0, 0, 0.0, 200, 60.61043267916313, 0, 196.0, 0]\n",
      "2\n",
      "[196.0, 0, 0.0, 200, 54.54938941124682, 0, 200, 0]\n",
      "4\n",
      "[200, 0, 0.0, 200, 56.54938941124682, 0, 180.0, 0]\n",
      "6\n",
      "[180.0, 0, 0.0, 200, 58.54938941124682, 0, 188.0, 0]\n",
      "0\n",
      "[188.0, 0, 0.0, 200, 60.54938941124682, 0, 196.0, 0]\n",
      "2\n",
      "[196.0, 0, 0.0, 200, 54.49445047012214, 0, 200, 0]\n",
      "4\n",
      "[200, 0, 0.0, 200, 56.49445047012214, 0, 180.0, 0]\n",
      "6\n",
      "[180.0, 0, 0.0, 200, 58.49445047012214, 0, 188.0, 0]\n",
      "0\n",
      "[188.0, 0, 0.0, 200, 60.49445047012214, 0, 196.0, 0]\n",
      "2\n",
      "[196.0, 0, 0.0, 200, 54.445005423109926, 0, 200, 0]\n",
      "4\n",
      "[200, 0, 0.0, 200, 56.445005423109926, 0, 180.0, 0]\n",
      "6\n",
      "[180.0, 0, 0.0, 200, 58.445005423109926, 0, 188.0, 0]\n",
      "0\n",
      "[188.0, 0, 0.0, 200, 60.445005423109926, 0, 196.0, 0]\n",
      "2\n",
      "[196.0, 0, 0.0, 200, 54.400504880798934, 0, 200, 0]\n",
      "4\n",
      "[200, 0, 0.0, 200, 56.400504880798934, 0, 180.0, 0]\n",
      "6\n",
      "[180.0, 0, 0.0, 200, 58.400504880798934, 0, 188.0, 0]\n",
      "0\n",
      "[188.0, 0, 0.0, 200, 60.400504880798934, 0, 196.0, 0]\n",
      "2\n",
      "[196.0, 0, 0.0, 200, 54.36045439271904, 0, 200, 0]\n",
      "4\n",
      "[200, 0, 0.0, 200, 56.36045439271904, 0, 180.0, 0]\n",
      "6\n",
      "[180.0, 0, 0.0, 200, 58.36045439271904, 0, 188.0, 0]\n",
      "0\n",
      "[188.0, 0, 0.0, 200, 60.36045439271904, 0, 196.0, 0]\n",
      "2\n",
      "[196.0, 0, 0.0, 200, 54.32440895344714, 0, 200, 0]\n",
      "4\n",
      "[200, 0, 0.0, 200, 56.32440895344714, 0, 180.0, 0]\n",
      "6\n",
      "[180.0, 0, 0.0, 200, 58.32440895344714, 0, 188.0, 0]\n",
      "0\n",
      "[188.0, 0, 0.0, 200, 60.32440895344714, 0, 196.0, 0]\n",
      "2\n",
      "[196.0, 0, 0.0, 200, 54.29196805810243, 0, 200, 0]\n",
      "4\n",
      "[200, 0, 0.0, 200, 56.29196805810243, 0, 180.0, 0]\n",
      "6\n",
      "[180.0, 0, 0.0, 200, 58.29196805810243, 0, 188.0, 0]\n",
      "0\n",
      "[188.0, 0, 0.0, 200, 60.29196805810243, 0, 196.0, 0]\n",
      "2\n",
      "[196.0, 0, 0.0, 200, 54.26277125229218, 0, 200, 0]\n",
      "4\n",
      "[200, 0, 0.0, 200, 56.26277125229218, 0, 180.0, 0]\n",
      "6\n",
      "[180.0, 0, 0.0, 200, 58.26277125229218, 0, 188.0, 0]\n",
      "0\n",
      "[188.0, 0, 0.0, 200, 60.26277125229218, 0, 196.0, 0]\n",
      "2\n",
      "[196.0, 0, 0.0, 200, 54.23649412706297, 0, 200, 0]\n",
      "4\n",
      "[200, 0, 0.0, 200, 56.23649412706297, 0, 180.0, 0]\n",
      "6\n",
      "[180.0, 0, 0.0, 200, 58.23649412706297, 0, 188.0, 0]\n",
      "0\n",
      "[188.0, 0, 0.0, 200, 60.23649412706297, 0, 196.0, 0]\n",
      "2\n",
      "[196.0, 0, 0.0, 200, 54.21284471435667, 0, 200, 0]\n",
      "4\n"
     ]
    }
   ],
   "source": [
    "Step_List,A_steps,A_exploit=final_episode()"
   ]
  },
  {
   "cell_type": "code",
   "execution_count": null,
   "metadata": {
    "colab": {
     "base_uri": "https://localhost:8080/"
    },
    "id": "xRb559f_ENQn",
    "outputId": "b8746638-6c4a-4f21-b2ec-a16aa2837ff6"
   },
   "outputs": [
    {
     "data": {
      "text/plain": [
       "[7448.905471734337, 0, 0.0, 0, 2598.137608749381, 0, 7631.112410936034, 0]"
      ]
     },
     "execution_count": 52,
     "metadata": {
      "tags": []
     },
     "output_type": "execute_result"
    }
   ],
   "source": [
    "sum=0\n",
    "for i in A_exploit:\n",
    "  sum +=i\n",
    "sum\n",
    "A_exploit"
   ]
  },
  {
   "cell_type": "code",
   "execution_count": null,
   "metadata": {
    "colab": {
     "base_uri": "https://localhost:8080/"
    },
    "id": "xw4_1BAAEjRw",
    "outputId": "df20d4e1-0d44-4fa7-9f62-e29309a2ed70"
   },
   "outputs": [
    {
     "data": {
      "text/plain": [
       "[41, 0, 41, 0, 41, 0, 41, 0]"
      ]
     },
     "execution_count": 53,
     "metadata": {
      "tags": []
     },
     "output_type": "execute_result"
    }
   ],
   "source": [
    "A_steps"
   ]
  },
  {
   "cell_type": "code",
   "execution_count": null,
   "metadata": {
    "colab": {
     "base_uri": "https://localhost:8080/"
    },
    "id": "LnnNTNiUEmtw",
    "outputId": "0b82666f-2721-41db-ae15-d0bb9bd11df2"
   },
   "outputs": [
    {
     "data": {
      "text/plain": [
       "[0,\n",
       " 2,\n",
       " 4,\n",
       " 6,\n",
       " 0,\n",
       " 2,\n",
       " 4,\n",
       " 6,\n",
       " 0,\n",
       " 2,\n",
       " 4,\n",
       " 6,\n",
       " 0,\n",
       " 2,\n",
       " 4,\n",
       " 6,\n",
       " 0,\n",
       " 2,\n",
       " 4,\n",
       " 6,\n",
       " 0,\n",
       " 2,\n",
       " 4,\n",
       " 6,\n",
       " 0,\n",
       " 2,\n",
       " 4,\n",
       " 6,\n",
       " 0,\n",
       " 2,\n",
       " 4,\n",
       " 6,\n",
       " 0,\n",
       " 2,\n",
       " 4,\n",
       " 6,\n",
       " 0,\n",
       " 2,\n",
       " 4,\n",
       " 6,\n",
       " 0,\n",
       " 2,\n",
       " 4,\n",
       " 6,\n",
       " 0,\n",
       " 2,\n",
       " 4,\n",
       " 6,\n",
       " 0,\n",
       " 2,\n",
       " 4,\n",
       " 6,\n",
       " 0,\n",
       " 2,\n",
       " 4,\n",
       " 6,\n",
       " 0,\n",
       " 2,\n",
       " 4,\n",
       " 6,\n",
       " 0,\n",
       " 2,\n",
       " 4,\n",
       " 6,\n",
       " 0,\n",
       " 2,\n",
       " 4,\n",
       " 6,\n",
       " 0,\n",
       " 2,\n",
       " 4,\n",
       " 6,\n",
       " 0,\n",
       " 2,\n",
       " 4,\n",
       " 6,\n",
       " 0,\n",
       " 2,\n",
       " 4,\n",
       " 6,\n",
       " 0,\n",
       " 2,\n",
       " 4,\n",
       " 6,\n",
       " 0,\n",
       " 2,\n",
       " 4,\n",
       " 6,\n",
       " 0,\n",
       " 2,\n",
       " 4,\n",
       " 6,\n",
       " 0,\n",
       " 2,\n",
       " 4,\n",
       " 6,\n",
       " 0,\n",
       " 2,\n",
       " 4,\n",
       " 6,\n",
       " 0,\n",
       " 2,\n",
       " 4,\n",
       " 6,\n",
       " 0,\n",
       " 2,\n",
       " 4,\n",
       " 6,\n",
       " 0,\n",
       " 2,\n",
       " 4,\n",
       " 6,\n",
       " 0,\n",
       " 2,\n",
       " 4,\n",
       " 6,\n",
       " 0,\n",
       " 2,\n",
       " 4,\n",
       " 6,\n",
       " 0,\n",
       " 2,\n",
       " 4,\n",
       " 6,\n",
       " 0,\n",
       " 2,\n",
       " 4,\n",
       " 6,\n",
       " 0,\n",
       " 2,\n",
       " 4,\n",
       " 6,\n",
       " 0,\n",
       " 2,\n",
       " 4,\n",
       " 6,\n",
       " 0,\n",
       " 2,\n",
       " 4,\n",
       " 6,\n",
       " 0,\n",
       " 2,\n",
       " 4,\n",
       " 6,\n",
       " 0,\n",
       " 2,\n",
       " 4,\n",
       " 6,\n",
       " 0,\n",
       " 2,\n",
       " 4,\n",
       " 6,\n",
       " 0,\n",
       " 2,\n",
       " 4,\n",
       " 6,\n",
       " 0,\n",
       " 2,\n",
       " 4,\n",
       " 6,\n",
       " 0,\n",
       " 2,\n",
       " 4,\n",
       " 6]"
      ]
     },
     "execution_count": 54,
     "metadata": {
      "tags": []
     },
     "output_type": "execute_result"
    }
   ],
   "source": [
    "Step_List"
   ]
  },
  {
   "cell_type": "code",
   "execution_count": null,
   "metadata": {
    "id": "BjEeiHpvEoS6"
   },
   "outputs": [],
   "source": []
  }
 ],
 "metadata": {
  "colab": {
   "collapsed_sections": [],
   "name": "Epsilondecay_quality_V2.ipynb",
   "provenance": []
  },
  "kernelspec": {
   "display_name": "Python 3",
   "language": "python",
   "name": "python3"
  },
  "language_info": {
   "codemirror_mode": {
    "name": "ipython",
    "version": 3
   },
   "file_extension": ".py",
   "mimetype": "text/x-python",
   "name": "python",
   "nbconvert_exporter": "python",
   "pygments_lexer": "ipython3",
   "version": "3.8.8"
  }
 },
 "nbformat": 4,
 "nbformat_minor": 1
}
