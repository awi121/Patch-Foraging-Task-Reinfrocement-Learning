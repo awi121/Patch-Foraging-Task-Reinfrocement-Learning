{
 "cells": [
  {
   "cell_type": "code",
   "execution_count": null,
   "id": "3e3adab9",
   "metadata": {
    "id": "3e3adab9"
   },
   "outputs": [],
   "source": [
    "from gym import Env\n",
    "from gym.spaces import Discrete, Box\n",
    "import numpy as np\n",
    "import random"
   ]
  },
  {
   "cell_type": "code",
   "execution_count": null,
   "id": "2af84d3b",
   "metadata": {
    "id": "2af84d3b"
   },
   "outputs": [],
   "source": [
    "dist1=[0,1,1.848,2.414,2.613,2.414,1.848,1]\n",
    "k=2.2\n",
    "dist=[i/k for i in dist1]\n",
    "def timer(a1,a2):\n",
    "    return dist[abs(a1-a2)]\n",
    "r=[70,0,0,70,70,0,70,0]\n",
    "rr = [8, 0, 0, 2, 2 , 0, 8, 0]"
   ]
  },
  {
   "cell_type": "code",
   "execution_count": null,
   "id": "2b6cac1b",
   "metadata": {
    "id": "2b6cac1b"
   },
   "outputs": [],
   "source": [
    "class forageenv(Env):\n",
    "    def __init__(self,rewards,reward_rate):\n",
    "        # Actions we can take, down, stay, up\n",
    "        self.action_space = Discrete(8)\n",
    "        # Temperature array\n",
    "        self.observation_space = Discrete(2)\n",
    "        self.state=random.randint(0,7)\n",
    "        # Total time per episode\n",
    "        self.timer = 300\n",
    "        self.rewards=rewards\n",
    "        self.rewardso=rewards\n",
    "        self.reward_rate=reward_rate\n",
    "        self.reward_rateo=reward_rate\n",
    "        \n",
    "    def step(self,action):\n",
    "        a=self.state\n",
    "        self.state = action\n",
    "        self.timer-=1+timer(a,action)\n",
    "        reward=self.rewards[action]\n",
    "        for i in range(len(self.rewards)):\n",
    "            if(i!=action):\n",
    "                if(self.reward_rate[i]+self.rewards[i]>200):\n",
    "                    self.rewards[i]=200\n",
    "                else:   \n",
    "                    self.rewards[i]=self.reward_rate[i]+self.rewards[i]\n",
    "            else:\n",
    "                self.rewards[i]=0.9*self.rewards[i]\n",
    "        \n",
    "        if self.timer <= 0: \n",
    "            done = True\n",
    "        else:\n",
    "            done = False\n",
    "        info = {}\n",
    "        \n",
    "        # Return step information\n",
    "        return self.state, reward, done, info\n",
    "\n",
    "    def render(self):\n",
    "        # Implement\n",
    "        pass\n",
    "    \n",
    "    def reset(self):\n",
    "        self.state=random.randint(0,7)\n",
    "        self.timer = 300\n",
    "        self.rewards=[70,0,0,70,70,0,70,0]\n",
    "        \n",
    "        return self.state"
   ]
  },
  {
   "cell_type": "code",
   "execution_count": null,
   "id": "c77a7a8c",
   "metadata": {
    "id": "c77a7a8c"
   },
   "outputs": [],
   "source": [
    "env=forageenv(r,rr)"
   ]
  },
  {
   "cell_type": "code",
   "execution_count": null,
   "id": "8ff2bfec",
   "metadata": {
    "id": "8ff2bfec",
    "outputId": "1f4a56a4-a880-42de-a134-60181ff027e4"
   },
   "outputs": [
    {
     "name": "stdout",
     "output_type": "stream",
     "text": [
      "Episode:1 Score:12656.440145509745\n",
      "Episode:2 Score:12862.194918568277\n",
      "Episode:3 Score:13466.008947459324\n",
      "Episode:4 Score:14015.884533342152\n",
      "Episode:5 Score:12138.85722773652\n",
      "Episode:6 Score:13107.076477200988\n",
      "Episode:7 Score:12119.516722031498\n",
      "Episode:8 Score:12120.280829175012\n",
      "Episode:9 Score:12315.924385925831\n",
      "Episode:10 Score:12889.941209686474\n"
     ]
    }
   ],
   "source": [
    "episodes = 10\n",
    "for episode in range(1, episodes+1):\n",
    "    state = env.reset()\n",
    "    done = False\n",
    "    score = 0 \n",
    "    \n",
    "    while not done:\n",
    "        #env.render()\n",
    "        action = env.action_space.sample()\n",
    "        n_state, reward, done, info = env.step(action)\n",
    "        score+=reward\n",
    "    print('Episode:{} Score:{}'.format(episode, score))\n"
   ]
  },
  {
   "cell_type": "code",
   "execution_count": null,
   "id": "bd02ccf9",
   "metadata": {
    "id": "bd02ccf9"
   },
   "outputs": [],
   "source": []
  }
 ],
 "metadata": {
  "colab": {
   "name": "forager video.ipynb",
   "provenance": []
  },
  "kernelspec": {
   "display_name": "Python 3",
   "language": "python",
   "name": "python3"
  },
  "language_info": {
   "codemirror_mode": {
    "name": "ipython",
    "version": 3
   },
   "file_extension": ".py",
   "mimetype": "text/x-python",
   "name": "python",
   "nbconvert_exporter": "python",
   "pygments_lexer": "ipython3",
   "version": "3.8.8"
  }
 },
 "nbformat": 4,
 "nbformat_minor": 5
}
